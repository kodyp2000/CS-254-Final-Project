{
 "cells": [
  {
   "cell_type": "markdown",
   "id": "a992fce4",
   "metadata": {},
   "source": [
    "Initial Tests!\n",
    "=========="
   ]
  },
  {
   "cell_type": "markdown",
   "id": "1fd000f2",
   "metadata": {},
   "source": [
    "Imports and preprocessing\n",
    "---------------------------------------"
   ]
  },
  {
   "cell_type": "code",
   "execution_count": 1,
   "id": "da51f53a",
   "metadata": {},
   "outputs": [],
   "source": [
    "# add modules here\n",
    "import re\n",
    "import copy\n",
    "# import modules\n",
    "import numpy as np\n",
    "import pandas as pd\n",
    "import matplotlib.pyplot as plt\n",
    "import sklearn as sk\n",
    "\n",
    "# sklearn utilities\n",
    "\n",
    "from sklearn import datasets\n",
    "from sklearn.model_selection import train_test_split\n",
    "from sklearn.metrics import confusion_matrix, classification_report\n",
    "from sklearn.preprocessing import StandardScaler\n",
    "\n",
    "# sklearn models\n",
    "from sklearn.linear_model import LogisticRegression\n",
    "from sklearn.tree import DecisionTreeClassifier\n",
    "from sklearn.svm import SVC\n",
    "from sklearn.ensemble import RandomForestClassifier\n",
    "from sklearn.decomposition import PCA\n",
    "\n",
    "from sklearn.feature_extraction.text import CountVectorizer, TfidfVectorizer\n"
   ]
  },
  {
   "cell_type": "code",
   "execution_count": 2,
   "id": "13e1104a",
   "metadata": {},
   "outputs": [],
   "source": [
    "mbti_dict = {\n",
    "    \"ISTJ\": 1,\n",
    "    \"ISFJ\": 2,\n",
    "    \"INFJ\": 3,\n",
    "    \"INTJ\": 4,\n",
    "    \"ISTP\": 5,\n",
    "    \"ISFP\": 6,\n",
    "    \"INFP\": 7,\n",
    "    \"INTP\": 8,\n",
    "    \"ESTP\": 9,\n",
    "    \"ESFP\": 10,\n",
    "    \"ENFP\": 11,\n",
    "    \"ENTP\": 12,\n",
    "    \"ESTJ\": 13,\n",
    "    \"ESFJ\": 14,\n",
    "    \"ENFJ\": 15,\n",
    "    \"ENTJ\": 16\n",
    "}"
   ]
  },
  {
   "cell_type": "code",
   "execution_count": 3,
   "id": "6ef2612a",
   "metadata": {},
   "outputs": [],
   "source": [
    "mbti_file = open(\"mbti_1.csv\", \"r\", encoding=\"utf-8\")\n",
    "\n",
    "mbti_rows = mbti_file.readlines()\n",
    "\n",
    "mbti_data_list = []\n",
    "\n",
    "#Split the csv into label and \n",
    "for i in range(len(mbti_rows)):\n",
    "    mbti_data_list.append([mbti_rows[i][0:4],mbti_rows[i][5:]])\n",
    "\n",
    "#Process posts\n",
    "\n",
    "mbti_list_processed = copy.deepcopy(mbti_data_list)\n",
    "\n",
    "alpha_match = re.compile('[^a-zA-Z \\']')\n",
    "link_match = re.compile(\"\\\\b[^\\s]*(http)[^\\s]+\\\\b\")#Matches links for removal\n",
    "\n",
    "multispace_match = re.compile(r\" +\")\n",
    "\n",
    "for j in range(len(mbti_list_processed)):\n",
    "    posts_raw = mbti_list_processed[j][1]\n",
    "    posts = posts_raw.casefold()\n",
    "    posts = posts.replace('|||', ' ')\n",
    "    \n",
    "    posts = \" \"+posts+\" \"\n",
    "    posts = link_match.sub(' ', posts)\n",
    "    posts = alpha_match.sub(' ', posts)\n",
    "    posts = posts.replace(\"'\",'')\n",
    "    posts = multispace_match.sub(' ', posts)\n",
    "    mbti_list_processed[j][1] = posts;\n",
    "    \n",
    "\n",
    "#print(mbti_list_processed)\n",
    "#print(mbti_data_list[0])\n",
    "\n",
    "\n",
    "mbti_zipped = list(zip(*mbti_list_processed)) #Swap rows, columns.\n",
    "\n",
    "\n",
    "\n",
    "\n"
   ]
  },
  {
   "cell_type": "code",
   "execution_count": 4,
   "id": "b16c55bb",
   "metadata": {
    "scrolled": true
   },
   "outputs": [
    {
     "name": "stdout",
     "output_type": "stream",
     "text": [
      "8675\n"
     ]
    }
   ],
   "source": [
    "target_nums = []\n",
    "\n",
    "for t in mbti_zipped[0]:\n",
    "    target_nums.append(mbti_dict[t]) #Convert from text targets to numbered targets\n",
    "    \n",
    "print(len(target_nums))"
   ]
  },
  {
   "cell_type": "code",
   "execution_count": 5,
   "id": "ee5bd2d6",
   "metadata": {},
   "outputs": [
    {
     "data": {
      "text/plain": [
       "(8675, 8002)"
      ]
     },
     "execution_count": 5,
     "metadata": {},
     "output_type": "execute_result"
    }
   ],
   "source": [
    "tf_idf_vec = TfidfVectorizer(use_idf=True, \n",
    "                        smooth_idf=False,  \n",
    "                        ngram_range=(1,1),stop_words='english', min_df=.005)\n",
    "#transform\n",
    "tf_idf_data = tf_idf_vec.fit_transform(mbti_zipped[1])\n",
    "tf_arr = tf_idf_data.toarray()\n",
    "\n",
    "target_num_arr = np.array(target_nums)\n",
    "target_num_arr = np.reshape(target_num_arr, (target_num_arr.shape[0],1))\n",
    "\n",
    "data_scaler = StandardScaler()\n",
    "tf_arr = data_scaler.fit_transform(tf_arr)\n",
    "\n",
    "\n",
    "full_data = np.append(tf_arr, target_num_arr, 1)\n",
    "\n",
    "\n",
    "\n",
    "\n",
    "\n",
    "\n",
    "#create dataframe for display purposes mostly\n",
    "tf_idf_dataframe=pd.DataFrame(full_data,columns=np.append(tf_idf_vec.get_feature_names(),'target'))\n",
    "tf_idf_dataframe.shape\n"
   ]
  },
  {
   "cell_type": "code",
   "execution_count": 6,
   "id": "ac7a585a",
   "metadata": {},
   "outputs": [
    {
     "data": {
      "text/html": [
       "<div>\n",
       "<style scoped>\n",
       "    .dataframe tbody tr th:only-of-type {\n",
       "        vertical-align: middle;\n",
       "    }\n",
       "\n",
       "    .dataframe tbody tr th {\n",
       "        vertical-align: top;\n",
       "    }\n",
       "\n",
       "    .dataframe thead th {\n",
       "        text-align: right;\n",
       "    }\n",
       "</style>\n",
       "<table border=\"1\" class=\"dataframe\">\n",
       "  <thead>\n",
       "    <tr style=\"text-align: right;\">\n",
       "      <th></th>\n",
       "      <th>abandon</th>\n",
       "      <th>abandoned</th>\n",
       "      <th>abilities</th>\n",
       "      <th>ability</th>\n",
       "      <th>able</th>\n",
       "      <th>abnormal</th>\n",
       "      <th>aboard</th>\n",
       "      <th>abortion</th>\n",
       "      <th>abrasive</th>\n",
       "      <th>abroad</th>\n",
       "      <th>...</th>\n",
       "      <th>zealand</th>\n",
       "      <th>zelda</th>\n",
       "      <th>zen</th>\n",
       "      <th>zero</th>\n",
       "      <th>zodiac</th>\n",
       "      <th>zombie</th>\n",
       "      <th>zombies</th>\n",
       "      <th>zone</th>\n",
       "      <th>zoo</th>\n",
       "      <th>target</th>\n",
       "    </tr>\n",
       "  </thead>\n",
       "  <tbody>\n",
       "    <tr>\n",
       "      <th>0</th>\n",
       "      <td>-0.099116</td>\n",
       "      <td>-0.105053</td>\n",
       "      <td>-0.153346</td>\n",
       "      <td>-0.354876</td>\n",
       "      <td>-0.599665</td>\n",
       "      <td>-0.095587</td>\n",
       "      <td>-0.073952</td>\n",
       "      <td>-0.093108</td>\n",
       "      <td>-0.079404</td>\n",
       "      <td>-0.074454</td>\n",
       "      <td>...</td>\n",
       "      <td>-0.070125</td>\n",
       "      <td>-0.083323</td>\n",
       "      <td>-0.084912</td>\n",
       "      <td>-0.169169</td>\n",
       "      <td>-0.098357</td>\n",
       "      <td>-0.125198</td>\n",
       "      <td>-0.107146</td>\n",
       "      <td>-0.195881</td>\n",
       "      <td>-0.070969</td>\n",
       "      <td>3.0</td>\n",
       "    </tr>\n",
       "    <tr>\n",
       "      <th>1</th>\n",
       "      <td>-0.099116</td>\n",
       "      <td>8.057097</td>\n",
       "      <td>-0.153346</td>\n",
       "      <td>-0.354876</td>\n",
       "      <td>0.766200</td>\n",
       "      <td>-0.095587</td>\n",
       "      <td>-0.073952</td>\n",
       "      <td>-0.093108</td>\n",
       "      <td>-0.079404</td>\n",
       "      <td>-0.074454</td>\n",
       "      <td>...</td>\n",
       "      <td>-0.070125</td>\n",
       "      <td>-0.083323</td>\n",
       "      <td>-0.084912</td>\n",
       "      <td>-0.169169</td>\n",
       "      <td>-0.098357</td>\n",
       "      <td>-0.125198</td>\n",
       "      <td>-0.107146</td>\n",
       "      <td>-0.195881</td>\n",
       "      <td>-0.070969</td>\n",
       "      <td>12.0</td>\n",
       "    </tr>\n",
       "    <tr>\n",
       "      <th>2</th>\n",
       "      <td>-0.099116</td>\n",
       "      <td>-0.105053</td>\n",
       "      <td>-0.153346</td>\n",
       "      <td>5.258140</td>\n",
       "      <td>1.017383</td>\n",
       "      <td>-0.095587</td>\n",
       "      <td>-0.073952</td>\n",
       "      <td>-0.093108</td>\n",
       "      <td>-0.079404</td>\n",
       "      <td>-0.074454</td>\n",
       "      <td>...</td>\n",
       "      <td>-0.070125</td>\n",
       "      <td>-0.083323</td>\n",
       "      <td>-0.084912</td>\n",
       "      <td>-0.169169</td>\n",
       "      <td>-0.098357</td>\n",
       "      <td>-0.125198</td>\n",
       "      <td>-0.107146</td>\n",
       "      <td>-0.195881</td>\n",
       "      <td>-0.070969</td>\n",
       "      <td>8.0</td>\n",
       "    </tr>\n",
       "    <tr>\n",
       "      <th>3</th>\n",
       "      <td>-0.099116</td>\n",
       "      <td>-0.105053</td>\n",
       "      <td>-0.153346</td>\n",
       "      <td>-0.354876</td>\n",
       "      <td>2.366856</td>\n",
       "      <td>-0.095587</td>\n",
       "      <td>-0.073952</td>\n",
       "      <td>-0.093108</td>\n",
       "      <td>-0.079404</td>\n",
       "      <td>-0.074454</td>\n",
       "      <td>...</td>\n",
       "      <td>-0.070125</td>\n",
       "      <td>-0.083323</td>\n",
       "      <td>-0.084912</td>\n",
       "      <td>-0.169169</td>\n",
       "      <td>-0.098357</td>\n",
       "      <td>-0.125198</td>\n",
       "      <td>-0.107146</td>\n",
       "      <td>-0.195881</td>\n",
       "      <td>-0.070969</td>\n",
       "      <td>4.0</td>\n",
       "    </tr>\n",
       "    <tr>\n",
       "      <th>4</th>\n",
       "      <td>-0.099116</td>\n",
       "      <td>-0.105053</td>\n",
       "      <td>-0.153346</td>\n",
       "      <td>-0.354876</td>\n",
       "      <td>-0.599665</td>\n",
       "      <td>-0.095587</td>\n",
       "      <td>-0.073952</td>\n",
       "      <td>-0.093108</td>\n",
       "      <td>-0.079404</td>\n",
       "      <td>-0.074454</td>\n",
       "      <td>...</td>\n",
       "      <td>-0.070125</td>\n",
       "      <td>-0.083323</td>\n",
       "      <td>-0.084912</td>\n",
       "      <td>-0.169169</td>\n",
       "      <td>-0.098357</td>\n",
       "      <td>-0.125198</td>\n",
       "      <td>-0.107146</td>\n",
       "      <td>-0.195881</td>\n",
       "      <td>-0.070969</td>\n",
       "      <td>16.0</td>\n",
       "    </tr>\n",
       "  </tbody>\n",
       "</table>\n",
       "<p>5 rows × 8002 columns</p>\n",
       "</div>"
      ],
      "text/plain": [
       "    abandon  abandoned  abilities   ability      able  abnormal    aboard  \\\n",
       "0 -0.099116  -0.105053  -0.153346 -0.354876 -0.599665 -0.095587 -0.073952   \n",
       "1 -0.099116   8.057097  -0.153346 -0.354876  0.766200 -0.095587 -0.073952   \n",
       "2 -0.099116  -0.105053  -0.153346  5.258140  1.017383 -0.095587 -0.073952   \n",
       "3 -0.099116  -0.105053  -0.153346 -0.354876  2.366856 -0.095587 -0.073952   \n",
       "4 -0.099116  -0.105053  -0.153346 -0.354876 -0.599665 -0.095587 -0.073952   \n",
       "\n",
       "   abortion  abrasive    abroad  ...   zealand     zelda       zen      zero  \\\n",
       "0 -0.093108 -0.079404 -0.074454  ... -0.070125 -0.083323 -0.084912 -0.169169   \n",
       "1 -0.093108 -0.079404 -0.074454  ... -0.070125 -0.083323 -0.084912 -0.169169   \n",
       "2 -0.093108 -0.079404 -0.074454  ... -0.070125 -0.083323 -0.084912 -0.169169   \n",
       "3 -0.093108 -0.079404 -0.074454  ... -0.070125 -0.083323 -0.084912 -0.169169   \n",
       "4 -0.093108 -0.079404 -0.074454  ... -0.070125 -0.083323 -0.084912 -0.169169   \n",
       "\n",
       "     zodiac    zombie   zombies      zone       zoo  target  \n",
       "0 -0.098357 -0.125198 -0.107146 -0.195881 -0.070969     3.0  \n",
       "1 -0.098357 -0.125198 -0.107146 -0.195881 -0.070969    12.0  \n",
       "2 -0.098357 -0.125198 -0.107146 -0.195881 -0.070969     8.0  \n",
       "3 -0.098357 -0.125198 -0.107146 -0.195881 -0.070969     4.0  \n",
       "4 -0.098357 -0.125198 -0.107146 -0.195881 -0.070969    16.0  \n",
       "\n",
       "[5 rows x 8002 columns]"
      ]
     },
     "execution_count": 6,
     "metadata": {},
     "output_type": "execute_result"
    }
   ],
   "source": [
    "tf_idf_dataframe.head()"
   ]
  },
  {
   "cell_type": "markdown",
   "id": "897fbca7",
   "metadata": {},
   "source": [
    "SVM Testing\n",
    "------------------"
   ]
  },
  {
   "cell_type": "code",
   "execution_count": 7,
   "id": "e2203b2b",
   "metadata": {},
   "outputs": [],
   "source": [
    "x_train, x_test, y_train, y_test = train_test_split(full_data[:, :-1], full_data[:, -1], test_size = .25, random_state = 0)"
   ]
  },
  {
   "cell_type": "code",
   "execution_count": 8,
   "id": "240e509a",
   "metadata": {},
   "outputs": [
    {
     "name": "stderr",
     "output_type": "stream",
     "text": [
      "C:\\Users\\polit\\anaconda3\\lib\\site-packages\\sklearn\\svm\\_base.py:255: ConvergenceWarning: Solver terminated early (max_iter=1000).  Consider pre-processing your data with StandardScaler or MinMaxScaler.\n",
      "  warnings.warn('Solver terminated early (max_iter=%i).'\n"
     ]
    },
    {
     "data": {
      "text/plain": [
       "SVC(gamma='auto', max_iter=1000)"
      ]
     },
     "execution_count": 8,
     "metadata": {},
     "output_type": "execute_result"
    }
   ],
   "source": [
    "svm_1 = SVC(max_iter = 1000, gamma = 'auto')\n",
    "svm_1.fit(x_train, y_train)"
   ]
  },
  {
   "cell_type": "code",
   "execution_count": 9,
   "id": "5b71c746",
   "metadata": {},
   "outputs": [
    {
     "data": {
      "text/plain": [
       "LogisticRegression(max_iter=100000)"
      ]
     },
     "execution_count": 9,
     "metadata": {},
     "output_type": "execute_result"
    }
   ],
   "source": [
    "reg_1 = LogisticRegression(max_iter = 100000)\n",
    "reg_1.fit(x_train,y_train)"
   ]
  },
  {
   "cell_type": "code",
   "execution_count": 10,
   "id": "f7150e6e",
   "metadata": {},
   "outputs": [
    {
     "name": "stdout",
     "output_type": "stream",
     "text": [
      "[[ 13   1   3   8   0   0   9   7   0   0   1   1   0   0   0   0]\n",
      " [  0  15   9   3   0   1  12   3   0   0   1   2   0   0   0   0]\n",
      " [  1   1 225  21   3   2  79  24   0   0   9   9   0   0   1   0]\n",
      " [  1   0  46 135   2   2  34  47   0   0  10  11   0   0   0   2]\n",
      " [  0   1   6   7  25   0  12  18   0   0   1   3   0   0   0   0]\n",
      " [  0   1  13   8   0  15  18   6   0   0   3   2   0   0   0   0]\n",
      " [  2   0  64  22   1   4 288  35   0   0  16   6   0   0   2   0]\n",
      " [  1   0  27  36   1   3  51 192   0   0   5  19   0   0   0   0]\n",
      " [  0   0   2   1   1   0   4   3   3   0   2   2   0   0   0   0]\n",
      " [  0   0   4   2   0   0   0   1   0   0   0   4   0   0   0   0]\n",
      " [  1   0  26  10   2   0  39  13   0   0  71   9   0   0   1   0]\n",
      " [  1   0  21  14   3   2  14  39   0   0  12  71   0   0   0   1]\n",
      " [  0   0   2   2   0   0   2   0   0   0   1   2   0   0   0   1]\n",
      " [  0   0   5   0   0   0   4   5   0   0   0   1   0   1   0   0]\n",
      " [  0   0  13   5   1   0  14   1   0   0   4   0   0   0   9   0]\n",
      " [  0   0   9   8   1   0   5   9   0   0   0   5   0   0   0  12]]\n"
     ]
    }
   ],
   "source": [
    "reg_1_preds = reg_1.predict(x_test)\n",
    "reg_conf = confusion_matrix(y_test, reg_1_preds)\n",
    "print(reg_conf)"
   ]
  },
  {
   "cell_type": "code",
   "execution_count": 11,
   "id": "0ba20404",
   "metadata": {},
   "outputs": [
    {
     "name": "stdout",
     "output_type": "stream",
     "text": [
      "              precision    recall  f1-score   support\n",
      "\n",
      "         1.0       0.65      0.30      0.41        43\n",
      "         2.0       0.79      0.33      0.46        46\n",
      "         3.0       0.47      0.60      0.53       375\n",
      "         4.0       0.48      0.47      0.47       290\n",
      "         5.0       0.62      0.34      0.44        73\n",
      "         6.0       0.52      0.23      0.32        66\n",
      "         7.0       0.49      0.65      0.56       440\n",
      "         8.0       0.48      0.57      0.52       335\n",
      "         9.0       1.00      0.17      0.29        18\n",
      "        10.0       0.00      0.00      0.00        11\n",
      "        11.0       0.52      0.41      0.46       172\n",
      "        12.0       0.48      0.40      0.44       178\n",
      "        13.0       0.00      0.00      0.00        10\n",
      "        14.0       1.00      0.06      0.12        16\n",
      "        15.0       0.69      0.19      0.30        47\n",
      "        16.0       0.75      0.24      0.37        49\n",
      "\n",
      "    accuracy                           0.50      2169\n",
      "   macro avg       0.56      0.31      0.36      2169\n",
      "weighted avg       0.51      0.50      0.48      2169\n",
      "\n"
     ]
    },
    {
     "name": "stderr",
     "output_type": "stream",
     "text": [
      "C:\\Users\\polit\\anaconda3\\lib\\site-packages\\sklearn\\metrics\\_classification.py:1245: UndefinedMetricWarning: Precision and F-score are ill-defined and being set to 0.0 in labels with no predicted samples. Use `zero_division` parameter to control this behavior.\n",
      "  _warn_prf(average, modifier, msg_start, len(result))\n",
      "C:\\Users\\polit\\anaconda3\\lib\\site-packages\\sklearn\\metrics\\_classification.py:1245: UndefinedMetricWarning: Precision and F-score are ill-defined and being set to 0.0 in labels with no predicted samples. Use `zero_division` parameter to control this behavior.\n",
      "  _warn_prf(average, modifier, msg_start, len(result))\n",
      "C:\\Users\\polit\\anaconda3\\lib\\site-packages\\sklearn\\metrics\\_classification.py:1245: UndefinedMetricWarning: Precision and F-score are ill-defined and being set to 0.0 in labels with no predicted samples. Use `zero_division` parameter to control this behavior.\n",
      "  _warn_prf(average, modifier, msg_start, len(result))\n"
     ]
    }
   ],
   "source": [
    "print(classification_report(y_test, reg_1_preds))"
   ]
  },
  {
   "cell_type": "code",
   "execution_count": null,
   "id": "2a4379d0",
   "metadata": {},
   "outputs": [],
   "source": []
  }
 ],
 "metadata": {
  "kernelspec": {
   "display_name": "Python 3",
   "language": "python",
   "name": "python3"
  },
  "language_info": {
   "codemirror_mode": {
    "name": "ipython",
    "version": 3
   },
   "file_extension": ".py",
   "mimetype": "text/x-python",
   "name": "python",
   "nbconvert_exporter": "python",
   "pygments_lexer": "ipython3",
   "version": "3.8.8"
  }
 },
 "nbformat": 4,
 "nbformat_minor": 5
}
